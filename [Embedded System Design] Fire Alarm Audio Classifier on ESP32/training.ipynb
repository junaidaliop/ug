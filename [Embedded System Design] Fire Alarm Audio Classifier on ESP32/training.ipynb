{
 "cells": [
  {
   "cell_type": "code",
   "execution_count": null,
   "metadata": {},
   "outputs": [],
   "source": [
    "import tensorflow as tf\n",
    "import pandas as pd\n",
    "\n",
    "# Load the data set from Kaggle\n",
    "data = pd.read_csv(\"alarm_data.csv\")\n",
    "\n",
    "# Split the data into training and testing sets\n",
    "train_data = data[:int(0.8 * len(data))]\n",
    "test_data = data[int(0.8 * len(data)):]\n",
    "\n",
    "# Extract the audio samples and labels from the data\n",
    "train_samples = train_data[\"audio_samples\"].values\n",
    "train_labels = train_data[\"label\"].values\n",
    "test_samples = test_data[\"audio_samples\"].values\n",
    "test_labels = test_data[\"label\"].values\n",
    "\n",
    "# Preprocess the audio samples by normalizing them\n",
    "train_samples = (train_samples - train_samples.mean()) / train_samples.std()\n",
    "test_samples = (test_samples - test_samples.mean()) / test_samples.std()\n",
    "\n",
    "# Convert the labels to one-hot encoded arrays\n",
    "train_labels = tf.keras.utils.to_categorical(train_labels)\n",
    "test_labels = tf.keras.utils.to_categorical(test_labels)\n",
    "\n",
    "# Define the model architecture\n",
    "model = tf.keras.Sequential([\n",
    "    tf.keras.layers.Input(shape=(AUDIO_VECTOR_SIZE)),\n",
    "    tf.keras.layers.Dense(64, activation=\"relu\"),\n",
    "    tf.keras.layers.Dense(32, activation=\"relu\"),\n",
    "    tf.keras.layers.Dense(16, activation=\"relu\"),\n",
    "    tf.keras.layers.Dense(2, activation=\"softmax\")\n",
    "])\n",
    "\n",
    "# Compile the model\n",
    "model.compile(optimizer=\"adam\", loss=\"categorical_crossentropy\", metrics=[\"accuracy\"])\n",
    "# Train the model on the training data\n",
    "model.fit(train_samples, train_labels, epochs=10, batch_size=64)\n",
    "\n",
    "# Evaluate the model on the testing data\n",
    "loss, accuracy = model.evaluate(test_samples, test_labels)\n",
    "print(\"Loss:\", loss)\n",
    "print(\"Accuracy:\", accuracy)"
   ]
  }
 ],
 "metadata": {
  "language_info": {
   "name": "python"
  },
  "orig_nbformat": 4
 },
 "nbformat": 4,
 "nbformat_minor": 2
}
