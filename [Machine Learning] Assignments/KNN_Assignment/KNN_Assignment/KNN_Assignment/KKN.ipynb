{
  "nbformat": 4,
  "nbformat_minor": 0,
  "metadata": {
    "colab": {
      "name": "KKN.ipynb",
      "provenance": [],
      "collapsed_sections": []
    },
    "kernelspec": {
      "name": "python3",
      "display_name": "Python 3"
    }
  },
  "cells": [
    {
      "cell_type": "markdown",
      "metadata": {
        "id": "MxhxYszfnusX"
      },
      "source": [
        "Assignment No.1:k-nearest neighbors"
      ]
    },
    {
      "cell_type": "markdown",
      "metadata": {
        "id": "UWy7nO746bg6"
      },
      "source": [
        "\n",
        "Before running this block, make sure to upload \"data.mat\" in the google drive."
      ]
    },
    {
      "cell_type": "code",
      "metadata": {
        "id": "l2aZxnbdnn-N",
        "outputId": "8529ee2b-f780-4f45-900c-1649513cdb69",
        "colab": {
          "base_uri": "https://localhost:8080/"
        }
      },
      "source": [
        "#Enter your path of dataset from google drive  \n",
        "import scipy.io as sio\n",
        "GOOGLE_COLAB = True\n",
        "path = \"\"\n",
        "if GOOGLE_COLAB:\n",
        "    from google.colab import drive, files\n",
        "    drive.mount('/content/drive/')\n",
        "    path = \"/content/drive/My Drive/\"\n",
        "\n",
        "dataset = path + \"data.mat\" \n",
        "\n",
        "#Enter path of your test image\n",
        "test_image=path+\"test.jpg\"\n",
        "mat_contents = sio.loadmat(dataset)\n",
        "mat_contents\n",
        "images = mat_contents['images']\n",
        "label = mat_contents['C']\n",
        "images.shape"
      ],
      "execution_count": 4,
      "outputs": [
        {
          "output_type": "stream",
          "text": [
            "Drive already mounted at /content/drive/; to attempt to forcibly remount, call drive.mount(\"/content/drive/\", force_remount=True).\n"
          ],
          "name": "stdout"
        },
        {
          "output_type": "execute_result",
          "data": {
            "text/plain": [
              "(50, 3072)"
            ]
          },
          "metadata": {
            "tags": []
          },
          "execution_count": 4
        }
      ]
    },
    {
      "cell_type": "markdown",
      "metadata": {
        "id": "vQnZDcvBnthy"
      },
      "source": [
        "If you can see the shape of images in 'data.mat' then your data has been read. "
      ]
    },
    {
      "cell_type": "code",
      "metadata": {
        "id": "uipC318_1KpT"
      },
      "source": [
        "import numpy as np \n",
        "images= np.transpose(images)\n",
        "images.shape\n",
        "im = np.reshape(images, [ 32, 32, 3, -1], order=\"F\")"
      ],
      "execution_count": 5,
      "outputs": []
    },
    {
      "cell_type": "code",
      "metadata": {
        "id": "-SqDxP8O1VAD",
        "outputId": "64ad74e8-5931-4391-bd10-14ccef0dd936",
        "colab": {
          "base_uri": "https://localhost:8080/",
          "height": 300
        }
      },
      "source": [
        "from matplotlib import pyplot as plt\n",
        "#import cv2\n",
        "\n",
        "plt.imshow(im[:,:,:,40])\n",
        "print(im[:,:,:,0].shape)\n",
        "a= im[:,:,:,40]\n",
        "plt.imshow(a)\n",
        "a.shape"
      ],
      "execution_count": 6,
      "outputs": [
        {
          "output_type": "stream",
          "text": [
            "(32, 32, 3)\n"
          ],
          "name": "stdout"
        },
        {
          "output_type": "execute_result",
          "data": {
            "text/plain": [
              "(32, 32, 3)"
            ]
          },
          "metadata": {
            "tags": []
          },
          "execution_count": 6
        },
        {
          "output_type": "display_data",
          "data": {
            "image/png": "[encoded data removed]",
            "text/plain": [
              "<Figure size 432x288 with 1 Axes>"
            ]
          },
          "metadata": {
            "tags": [],
            "needs_background": "light"
          }
        }
      ]
    },
    {
      "cell_type": "markdown",
      "metadata": {
        "id": "R8N5huHD4LrU"
      },
      "source": [
        "You Need to write your code in this block."
      ]
    },
    {
      "cell_type": "code",
      "metadata": {
        "id": "XxSs-vDd3KYt"
      },
      "source": [
        "from scipy import misc\n",
        "import cv2\n",
        "from math import sqrt\n",
        "from numpy import ndarray\n",
        "\n",
        "\n",
        "for i in range(50):\n",
        "    G = im[:,:,:,i]\n",
        "    G = np.reshape(G,[-1], order=\"F\")\n",
        "\n",
        "    #Read your image here\n",
        "####### Your code here #######\n",
        "\n",
        "\n",
        "\n",
        "\n",
        "############################\n",
        "   \n",
        "\n",
        "    #Resize your image\n",
        "####### Your code here #######\n",
        "\n",
        "\n",
        "\n",
        "##############################\n",
        "   \n",
        "   \n",
        "    #Reshape your image as we reshape the image of dataset\n",
        "####### Your code here #######\n",
        "\n",
        "\n",
        "\n",
        "#############################\n",
        "    #Calculate Eucleadian distance between your image and dataset \n",
        "####### Your code here #######\n",
        "\n",
        "\n",
        "##############################"
      ],
      "execution_count": null,
      "outputs": []
    },
    {
      "cell_type": "markdown",
      "metadata": {
        "id": "1lLC5Mwd46sh"
      },
      "source": [
        "In this Block you need to fill the code for 1-NN. "
      ]
    },
    {
      "cell_type": "code",
      "metadata": {
        "id": "P_jqiHkY4xWa"
      },
      "source": [
        "# Write code for 1 NN\n",
        "#Find min distance\n",
        "#Fine at which point min value exists\n",
        "\n",
        "####### Your code here #######\n",
        "\n",
        "\n",
        "\n",
        "\n",
        "\n",
        "##############################"
      ],
      "execution_count": null,
      "outputs": []
    },
    {
      "cell_type": "markdown",
      "metadata": {
        "id": "sntq0ltr5Qop"
      },
      "source": [
        "\n",
        "Write code for 3 NN\n"
      ]
    },
    {
      "cell_type": "code",
      "metadata": {
        "id": "oD-sHiKm5bqx"
      },
      "source": [
        "#3 NN\n",
        "#Write code for 3 NN\n",
        "#Find 3 min distances\n",
        "#Find their instances\n",
        "#hint: Use for Loop\n",
        "\n",
        "####### Your code here #######\n",
        "\n",
        "\n",
        "\n",
        "\n",
        "\n",
        "##############################"
      ],
      "execution_count": null,
      "outputs": []
    },
    {
      "cell_type": "markdown",
      "metadata": {
        "id": "vQLhJVKc6Erk"
      },
      "source": [
        "Write code for 5 NN"
      ]
    },
    {
      "cell_type": "code",
      "metadata": {
        "id": "YR71bYdZ6QkL"
      },
      "source": [
        "#Write code for 5 NN\n",
        "#Find 5 min distances\n",
        "#Find their instances\n",
        "\n",
        "####### Your code here #######\n",
        "\n",
        "\n",
        "\n",
        "\n",
        "\n",
        "##############################"
      ],
      "execution_count": null,
      "outputs": []
    }
  ]
}